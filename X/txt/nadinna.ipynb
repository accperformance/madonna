{
 "cells": [
  {
   "cell_type": "code",
   "execution_count": 1,
   "metadata": {},
   "outputs": [
    {
     "name": "stdout",
     "output_type": "stream",
     "text": [
      "                 ID                                    AUTHOR  \\\n",
      "0  3814182872128171  http://www.facebook.com/1441803576032791   \n",
      "1   812917400865088      http://www.facebook.com/277742121499   \n",
      "2   817956110373011   http://www.facebook.com/233333650017022   \n",
      "3   807080388127039      http://www.facebook.com/143813098922   \n",
      "4   799750825512798      http://www.facebook.com/279854054779   \n",
      "\n",
      "                                                 URL              DATE  LIKES  \\\n",
      "0  http://www.facebook.com/1441803576032791_38141...  06/03/2420 20:28  315.0   \n",
      "1  http://www.facebook.com/277742121499_812917400...  06/03/2420 20:00  164.0   \n",
      "2  http://www.facebook.com/233333650017022_817956...  06/03/2420 21:37  205.0   \n",
      "3  http://www.facebook.com/143813098922_807080388...  07/03/2420 00:16  102.0   \n",
      "4  http://www.facebook.com/279854054779_799750825...  06/03/2420 15:05   92.0   \n",
      "\n",
      "  SHARES COMMENTS                                            CONTENT  \\\n",
      "0   36.0    133.0  Fãs da cantora norte-americana Madonna estão e...   \n",
      "1   12.0     62.0             Notícia agitou os fãs da Rainha do Pop   \n",
      "2    5.0     18.0  Gente! Show da Madonna com entrada franca? Sai...   \n",
      "3   15.0     62.0  Madonna deve fazer em maio show gratuito na pr...   \n",
      "4   19.0     50.0  🎙️Fãs de Madonna entram em delírio com possíve...   \n",
      "\n",
      "    SERVICE SENTIMENT  ENGAGEMENT  \n",
      "0  facebook  POSITIVE         0.0  \n",
      "1  facebook  POSITIVE         0.0  \n",
      "2  facebook  POSITIVE         0.0  \n",
      "3  facebook  POSITIVE         0.0  \n",
      "4  facebook  POSITIVE         0.0  \n",
      "DataFrame unificado salvo em: c:\\madonna\\face\\df_unificado.csv\n"
     ]
    }
   ],
   "source": [
    "import pandas as pd\n",
    "import os\n",
    "\n",
    "# Definir o caminho da pasta onde os arquivos CSV estão localizados\n",
    "caminho_pasta = r'c:\\madonna\\face'\n",
    "\n",
    "# Listar todos os arquivos CSV na pasta\n",
    "arquivos_csv = [f for f in os.listdir(caminho_pasta) if f.endswith('.csv')]\n",
    "\n",
    "# Criar uma lista para armazenar os DataFrames\n",
    "dataframes = []\n",
    "\n",
    "# Ler cada arquivo CSV e adicioná-lo à lista de DataFrames\n",
    "for arquivo in arquivos_csv:\n",
    "    caminho_arquivo = os.path.join(caminho_pasta, arquivo)\n",
    "    df = pd.read_csv(caminho_arquivo)\n",
    "    dataframes.append(df)\n",
    "\n",
    "# Concatenar todos os DataFrames em um único DataFrame\n",
    "df_final = pd.concat(dataframes, ignore_index=True)\n",
    "\n",
    "# Exibir as primeiras linhas do DataFrame final\n",
    "print(df_final.head())\n",
    "\n",
    "# Definir o caminho e o nome do arquivo CSV de saída\n",
    "caminho_saida = r'c:\\madonna\\face\\df_unificado.csv'\n",
    "\n",
    "# Salvar o DataFrame unificado em um arquivo CSV\n",
    "df_final.to_csv(caminho_saida, index=True)\n",
    "\n",
    "print(f\"DataFrame unificado salvo em: {caminho_saida}\")\n",
    "\n"
   ]
  },
  {
   "cell_type": "code",
   "execution_count": 2,
   "metadata": {},
   "outputs": [
    {
     "name": "stdout",
     "output_type": "stream",
     "text": [
      "                  ID            AUTHOR  URL              DATE  LIKES SHARES  \\\n",
      "0  18010050728466380               NaN  NaN  06/03/2420 02:20  643.0    0.0   \n",
      "1  17988399512627433               NaN  NaN  06/03/2420 01:44  531.0    0.0   \n",
      "2  18008822639340048               NaN  NaN  06/03/2420 02:20  344.0    0.0   \n",
      "3  18047601601612400  leandroexcursoes  NaN  06/03/2420 01:09  306.0    0.0   \n",
      "4  18099646870390464               NaN  NaN  06/03/2420 01:36  122.0    0.0   \n",
      "\n",
      "  COMMENTS                                            CONTENT    SERVICE  \\\n",
      "0     34.0  Madonna fará show GRATUITO no Rio de Janeiro e...  instagram   \n",
      "1      8.0  Madonna fará show GRATUITO na Praia de Copacab...  instagram   \n",
      "2     16.0  O IMPACTO DA RAINHA 👑\\n\\nO Copacabana Palace r...  instagram   \n",
      "3     34.0  Repost Instagram madonnaonline\\n \\nSim, parece...  instagram   \n",
      "4      0.0  WERNER DESTAQUE \\nMADONNA FARÁ SHOW GRÁTIS NO ...  instagram   \n",
      "\n",
      "  SENTIMENT  ENGAGEMENT  \n",
      "0  POSITIVE        0.00  \n",
      "1  POSITIVE        0.00  \n",
      "2  POSITIVE        0.00  \n",
      "3  POSITIVE        9.73  \n",
      "4  POSITIVE        0.00  \n",
      "DataFrame unificado salvo em: c:\\madonna\\insta\\df_unificado.csv\n"
     ]
    }
   ],
   "source": [
    "import pandas as pd\n",
    "import os\n",
    "\n",
    "# Definir o caminho da pasta onde os arquivos CSV estão localizados\n",
    "caminho_pasta = r'c:\\madonna\\insta'\n",
    "\n",
    "# Listar todos os arquivos CSV na pasta\n",
    "arquivos_csv = [f for f in os.listdir(caminho_pasta) if f.endswith('.csv')]\n",
    "\n",
    "# Criar uma lista para armazenar os DataFrames\n",
    "dataframes = []\n",
    "\n",
    "# Ler cada arquivo CSV e adicioná-lo à lista de DataFrames\n",
    "for arquivo in arquivos_csv:\n",
    "    caminho_arquivo = os.path.join(caminho_pasta, arquivo)\n",
    "    df = pd.read_csv(caminho_arquivo)\n",
    "    dataframes.append(df)\n",
    "\n",
    "# Concatenar todos os DataFrames em um único DataFrame\n",
    "df_final = pd.concat(dataframes, ignore_index=True)\n",
    "\n",
    "# Exibir as primeiras linhas do DataFrame final\n",
    "print(df_final.head())\n",
    "\n",
    "# Definir o caminho e o nome do arquivo CSV de saída\n",
    "caminho_saida = r'c:\\madonna\\insta\\df_unificado.csv'\n",
    "\n",
    "# Salvar o DataFrame unificado em um arquivo CSV\n",
    "df_final.to_csv(caminho_saida, index=False)\n",
    "\n",
    "print(f\"DataFrame unificado salvo em: {caminho_saida}\")\n"
   ]
  },
  {
   "cell_type": "code",
   "execution_count": 3,
   "metadata": {},
   "outputs": [
    {
     "name": "stdout",
     "output_type": "stream",
     "text": [
      "                    ID           AUTHOR  \\\n",
      "0  1765178862671995020         siteptbr   \n",
      "1  1765177891401158776     updatecharts   \n",
      "2  1765183207052374346  nostrendsbrasil   \n",
      "3  1765196534520349063          matheus   \n",
      "4  1765197784112607713           vittor   \n",
      "\n",
      "                                                 URL              DATE  LIKES  \\\n",
      "0  http://twitter.com/siteptbr/statuses/176517886...  06/03/2420 00:53  36.3k   \n",
      "1  http://twitter.com/updatecharts/statuses/17651...  06/03/2420 00:49  59.2k   \n",
      "2  http://twitter.com/nostrendsbrasil/statuses/17...  06/03/2420 01:10   42.0   \n",
      "3  http://twitter.com/matheus/statuses/1765196534...  06/03/2420 02:03   14.0   \n",
      "4  http://twitter.com/vittor/statuses/17651977841...  06/03/2420 02:08    0.0   \n",
      "\n",
      "   SHARES  COMMENTS                                            CONTENT  \\\n",
      "0     0.0       0.0  🚨 Madonna fará show GRATUITO na Praia de Copac...   \n",
      "1     0.0       0.0  🚨 RAINHA! Madonna fará show GRATUITO no Rio de...   \n",
      "2     0.0       0.0  Madonna - Cantora fará show de graça na Praia ...   \n",
      "3     0.0       0.0  se isso for verdade, eu não sei como eu vou, m...   \n",
      "4     0.0       0.0  eu indo pro show da Madonna em Copacabana #bbb...   \n",
      "\n",
      "   SERVICE SENTIMENT  ENGAGEMENT  \n",
      "0  twitter  POSITIVE         0.0  \n",
      "1  twitter  POSITIVE         0.0  \n",
      "2  twitter  POSITIVE         0.0  \n",
      "3  twitter  NEGATIVE         0.0  \n",
      "4  twitter   NEUTRAL         0.0  \n",
      "DataFrame unificado salvo em: c:\\madonna\\x\\df_unificado.csv\n"
     ]
    }
   ],
   "source": [
    "import pandas as pd\n",
    "import os\n",
    "\n",
    "# Definir o caminho da pasta onde os arquivos CSV estão localizados\n",
    "caminho_pasta = r'c:\\madonna\\x'\n",
    "\n",
    "# Listar todos os arquivos CSV na pasta\n",
    "arquivos_csv = [f for f in os.listdir(caminho_pasta) if f.endswith('.csv')]\n",
    "\n",
    "# Criar uma lista para armazenar os DataFrames\n",
    "dataframes = []\n",
    "\n",
    "# Ler cada arquivo CSV e adicioná-lo à lista de DataFrames\n",
    "for arquivo in arquivos_csv:\n",
    "    caminho_arquivo = os.path.join(caminho_pasta, arquivo)\n",
    "    df = pd.read_csv(caminho_arquivo)\n",
    "    dataframes.append(df)\n",
    "\n",
    "# Concatenar todos os DataFrames em um único DataFrame\n",
    "df_final = pd.concat(dataframes, ignore_index=True)\n",
    "\n",
    "# Exibir as primeiras linhas do DataFrame final\n",
    "print(df_final.head())\n",
    "\n",
    "# Definir o caminho e o nome do arquivo CSV de saída\n",
    "caminho_saida = r'c:\\madonna\\x\\df_unificado.csv'\n",
    "\n",
    "# Salvar o DataFrame unificado em um arquivo CSV\n",
    "df_final.to_csv(caminho_saida, index=False)\n",
    "\n",
    "print(f\"DataFrame unificado salvo em: {caminho_saida}\")\n"
   ]
  },
  {
   "cell_type": "code",
   "execution_count": 9,
   "metadata": {},
   "outputs": [
    {
     "name": "stdout",
     "output_type": "stream",
     "text": [
      "Arquivos CSV salvos com sucesso.\n"
     ]
    }
   ],
   "source": [
    "import pandas as pd\n",
    "import os\n",
    "\n",
    "# Caminho do arquivo CSV\n",
    "caminho_csv = r'C:\\madonna\\face\\df_unificado.csv'\n",
    "\n",
    "# Caminho para salvar os arquivos de texto\n",
    "caminho_txt = r'C:\\madonna\\face\\txt'\n",
    "\n",
    "# Certificar-se de que o diretório de saída exista\n",
    "if not os.path.exists(caminho_txt):\n",
    "    os.makedirs(caminho_txt)\n",
    "\n",
    "# Carregar o arquivo CSV em um DataFrame\n",
    "df = pd.read_csv(caminho_csv)\n",
    "\n",
    "# Iterar sobre cada linha do DataFrame\n",
    "for index, linha in df.iterrows():\n",
    "    # Criar o nome do arquivo CSV\n",
    "    nome_arquivo = os.path.join(caminho_txt, f'linha_{index}.csv')\n",
    "    \n",
    "    # Salvar a linha como um novo arquivo CSV\n",
    "    linha.to_frame().T.to_csv(nome_arquivo, index=False, header=False)\n",
    "\n",
    "print(\"Arquivos CSV salvos com sucesso.\")\n"
   ]
  },
  {
   "cell_type": "code",
   "execution_count": 10,
   "metadata": {},
   "outputs": [
    {
     "name": "stdout",
     "output_type": "stream",
     "text": [
      "Arquivos CSV salvos com sucesso.\n"
     ]
    }
   ],
   "source": [
    "import pandas as pd\n",
    "import os\n",
    "\n",
    "# Caminho do arquivo CSV\n",
    "caminho_csv = r'C:\\madonna\\insta\\df_unificado.csv'\n",
    "\n",
    "# Caminho para salvar os arquivos de texto\n",
    "caminho_txt = r'C:\\madonna\\insta\\txt'\n",
    "\n",
    "# Certificar-se de que o diretório de saída exista\n",
    "if not os.path.exists(caminho_txt):\n",
    "    os.makedirs(caminho_txt)\n",
    "\n",
    "# Carregar o arquivo CSV em um DataFrame\n",
    "df = pd.read_csv(caminho_csv)\n",
    "\n",
    "# Iterar sobre cada linha do DataFrame\n",
    "for index, linha in df.iterrows():\n",
    "    # Criar o nome do arquivo CSV\n",
    "    nome_arquivo = os.path.join(caminho_txt, f'linha_{index}.csv')\n",
    "    \n",
    "    # Salvar a linha como um novo arquivo CSV\n",
    "    linha.to_frame().T.to_csv(nome_arquivo, index=False, header=False)\n",
    "\n",
    "print(\"Arquivos CSV salvos com sucesso.\")\n"
   ]
  },
  {
   "cell_type": "code",
   "execution_count": 11,
   "metadata": {},
   "outputs": [
    {
     "name": "stdout",
     "output_type": "stream",
     "text": [
      "Arquivos CSV salvos com sucesso.\n"
     ]
    }
   ],
   "source": [
    "import pandas as pd\n",
    "import os\n",
    "\n",
    "# Caminho do arquivo CSV\n",
    "caminho_csv = r'C:\\madonna\\x\\df_unificado.csv'\n",
    "\n",
    "# Caminho para salvar os arquivos de texto\n",
    "caminho_txt = r'C:\\madonna\\x\\txt'\n",
    "\n",
    "# Certificar-se de que o diretório de saída exista\n",
    "if not os.path.exists(caminho_txt):\n",
    "    os.makedirs(caminho_txt)\n",
    "\n",
    "# Carregar o arquivo CSV em um DataFrame\n",
    "df = pd.read_csv(caminho_csv)\n",
    "\n",
    "# Iterar sobre cada linha do DataFrame\n",
    "for index, linha in df.iterrows():\n",
    "    # Criar o nome do arquivo CSV\n",
    "    nome_arquivo = os.path.join(caminho_txt, f'linha_{index}.csv')\n",
    "    \n",
    "    # Salvar a linha como um novo arquivo CSV\n",
    "    linha.to_frame().T.to_csv(nome_arquivo, index=False, header=False)\n",
    "\n",
    "print(\"Arquivos CSV salvos com sucesso.\")\n"
   ]
  }
 ],
 "metadata": {
  "kernelspec": {
   "display_name": "Python 3",
   "language": "python",
   "name": "python3"
  },
  "language_info": {
   "codemirror_mode": {
    "name": "ipython",
    "version": 3
   },
   "file_extension": ".py",
   "mimetype": "text/x-python",
   "name": "python",
   "nbconvert_exporter": "python",
   "pygments_lexer": "ipython3",
   "version": "3.12.3"
  }
 },
 "nbformat": 4,
 "nbformat_minor": 2
}
