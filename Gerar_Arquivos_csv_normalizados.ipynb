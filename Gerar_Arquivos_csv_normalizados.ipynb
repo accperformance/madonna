{
 "cells": [
  {
   "cell_type": "markdown",
   "metadata": {},
   "source": [
    "# Código Python para gerar os arquivos .csv no formato normalizado e com label "
   ]
  },
  {
   "cell_type": "code",
   "execution_count": null,
   "metadata": {},
   "outputs": [],
   "source": [
    "# Importando as bibliotecas necessárias\n",
    "import os\n",
    "import pandas as pd\n",
    "from datetime import datetime"
   ]
  },
  {
   "cell_type": "code",
   "execution_count": null,
   "metadata": {},
   "outputs": [],
   "source": [
    "# Diretórios de entrada\n",
    "base_directory = r'/workspaces/madonna'\n",
    "directories = [os.path.join(base_directory, 'face'), os.path.join(base_directory, 'Insta'), os.path.join(base_directory, 'X')]"
   ]
  },
  {
   "cell_type": "code",
   "execution_count": null,
   "metadata": {},
   "outputs": [],
   "source": [
    "# Diretório de saída\n",
    "output_dir = os.path.join(base_directory, 'split')"
   ]
  },
  {
   "cell_type": "code",
   "execution_count": null,
   "metadata": {},
   "outputs": [],
   "source": [
    "# Cria o diretório de saída caso não exista\n",
    "os.makedirs(output_dir, exist_ok=True)"
   ]
  },
  {
   "cell_type": "code",
   "execution_count": null,
   "metadata": {},
   "outputs": [],
   "source": [
    "# Função para determinar o código de sentimento\n",
    "def get_sentiment_code(sentiment):\n",
    "    sentiment_map = {'neutral': 0, 'positive': 1, 'negative': 2}\n",
    "    return sentiment_map.get(sentiment.lower(), 'unknown')"
   ]
  },
  {
   "cell_type": "code",
   "execution_count": null,
   "metadata": {},
   "outputs": [],
   "source": [
    "# Nomes das colunas\n",
    "sentiment_column = 'sentiment'\n",
    "service_column = 'SERVICE'"
   ]
  },
  {
   "cell_type": "code",
   "execution_count": null,
   "metadata": {},
   "outputs": [],
   "source": [
    "# Processa cada diretório\n",
    "for directory in directories:\n",
    "    if os.path.exists(directory):\n",
    "        for filename in os.listdir(directory):\n",
    "            if filename.endswith('.csv'):\n",
    "                # Caminho completo do arquivo\n",
    "                file_path = os.path.join(directory, filename)\n",
    "                \n",
    "                # Lê o arquivo CSV\n",
    "                df = pd.read_csv(file_path)\n",
    "                \n",
    "                # Verifica se as colunas necessárias existem\n",
    "                if sentiment_column not in df.columns or service_column not in df.columns:\n",
    "                    print(f\"Colunas '{sentiment_column}' ou '{service_column}' não encontradas em {file_path}. Pulando este arquivo.\")\n",
    "                    continue\n",
    "                \n",
    "                # Cabeçalho do arquivo\n",
    "                header = df.columns.tolist()\n",
    "                \n",
    "                # Gera um novo arquivo para cada linha do CSV\n",
    "                for index, row in df.iterrows():\n",
    "                    sentiment = row[sentiment_column]\n",
    "                    service = row[service_column]\n",
    "                    sentiment_code = get_sentiment_code(sentiment)\n",
    "                    date_str = datetime.now().strftime('%Y%m%d%H%M')\n",
    "                    new_filename = f'{service}_{date_str}_{sentiment_code}_{index+1:07d}.csv'\n",
    "                    new_file_path = os.path.join(output_dir, new_filename)\n",
    "                    \n",
    "                    # Escreve a linha em um novo arquivo CSV\n",
    "                    row_df = pd.DataFrame([row], columns=header)\n",
    "                    row_df.to_csv(new_file_path, index=False)\n",
    "    else:\n",
    "        print(f\"Diretório não encontrado: {directory}\")\n",
    "\n",
    "print(\"Processamento concluído.\")"
   ]
  },
  {
   "cell_type": "markdown",
   "metadata": {},
   "source": [
    "Criado em 20240614 Versão Final"
   ]
  }
 ],
 "metadata": {
  "kernelspec": {
   "display_name": "Python 3",
   "language": "python",
   "name": "python3"
  },
  "language_info": {
   "codemirror_mode": {
    "name": "ipython",
    "version": 3
   },
   "file_extension": ".py",
   "mimetype": "text/x-python",
   "name": "python",
   "nbconvert_exporter": "python",
   "pygments_lexer": "ipython3",
   "version": "3.10.13"
  }
 },
 "nbformat": 4,
 "nbformat_minor": 2
}
