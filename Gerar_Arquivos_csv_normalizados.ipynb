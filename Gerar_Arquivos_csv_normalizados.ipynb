{
 "cells": [
  {
   "cell_type": "markdown",
   "metadata": {},
   "source": [
    "# Codigo Python para gerar os arquivos .csv no formato normalizado e com label "
   ]
  },
  {
   "cell_type": "code",
   "execution_count": null,
   "metadata": {},
   "outputs": [],
   "source": [
    "#Importando as bibliotecas necessárias\n",
    "import os\n",
    "import pandas as pd\n",
    "from datetime import datetime"
   ]
  },
  {
   "cell_type": "code",
   "execution_count": null,
   "metadata": {},
   "outputs": [],
   "source": [
    "# Diretórios de entrada\n",
    "directories = [r'\\madonna\\face', r'\\madonna\\Insta', r'\\madonna\\X']"
   ]
  },
  {
   "cell_type": "code",
   "execution_count": null,
   "metadata": {},
   "outputs": [],
   "source": [
    "# Diretório de saída\n",
    "output_dir = r'\\madonna\\split'"
   ]
  },
  {
   "cell_type": "code",
   "execution_count": null,
   "metadata": {},
   "outputs": [],
   "source": [
    "# Cria o diretório de saída caso não exista\n",
    "os.makedirs(output_dir, exist_ok=True)"
   ]
  },
  {
   "cell_type": "code",
   "execution_count": null,
   "metadata": {},
   "outputs": [],
   "source": [
    "# Função para determinar o código de sentimento\n",
    "def get_sentiment_code(sentiment):\n",
    "    sentiment_map = {'neutral': 0, 'positive': 1, 'negative': 2}\n",
    "    return sentiment_map.get(sentiment.lower(), 'unknown')"
   ]
  },
  {
   "cell_type": "code",
   "execution_count": null,
   "metadata": {},
   "outputs": [],
   "source": [
    "# Processa cada diretório\n",
    "for directory in directories:\n",
    "    for filename in os.listdir(directory):\n",
    "        if filename.endswith('.csv'):\n",
    "            # Caminho completo do arquivo\n",
    "            file_path = os.path.join(directory, filename)\n",
    "            \n",
    "            # Lê o arquivo CSV\n",
    "            df = pd.read_csv(file_path)\n",
    "            \n",
    "            # Cabeçalho do arquivo\n",
    "            header = df.columns.tolist()\n",
    "            \n",
    "            # Gera um novo arquivo para cada linha do CSV\n",
    "            for index, row in df.iterrows():\n",
    "                sentiment = row['sentiment']  # Assume que a coluna de sentimento se chama 'sentiment'\n",
    "                sentiment_code = get_sentiment_code(sentiment)\n",
    "                date_str = datetime.now().strftime('%Y%m%d%H%M')\n",
    "                new_filename = f'service_{date_str}_{sentiment_code}_{index+1:07d}.csv'\n",
    "                new_file_path = os.path.join(output_dir, new_filename)\n",
    "                \n",
    "                # Escreve a linha em um novo arquivo CSV\n",
    "                row_df = pd.DataFrame([row], columns=header)\n",
    "                row_df.to_csv(new_file_path, index=False)\n",
    "\n",
    "print(\"Processamento concluído.\")"
   ]
  },
  {
   "cell_type": "markdown",
   "metadata": {},
   "source": [
    "Criado dia 20240614"
   ]
  }
 ],
 "metadata": {
  "language_info": {
   "name": "python"
  }
 },
 "nbformat": 4,
 "nbformat_minor": 2
}
