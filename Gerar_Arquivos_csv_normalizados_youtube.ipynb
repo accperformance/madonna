{
 "cells": [
  {
   "cell_type": "markdown",
   "metadata": {},
   "source": [
    "# Código Python para buscar publicaçoes Youtube e Gerar os arquivos .csv no formato normalizado e com label "
   ]
  },
  {
   "cell_type": "code",
   "execution_count": null,
   "metadata": {},
   "outputs": [],
   "source": [
    "# Importando as bibliotecas necessárias\n",
    "import os\n",
    "import pandas as pd\n",
    "from googleapiclient.discovery import build\n"
   ]
  },
  {
   "cell_type": "code",
   "execution_count": null,
   "metadata": {},
   "outputs": [],
   "source": [
    "# Função para buscar vídeos com informações detalhadas dentro de um intervalo de datas\n",
    "def search_youtube_videos(api_key, query, published_after, published_before):\n",
    "    youtube = build('youtube', 'v3', developerKey=api_key)\n",
    "    videos = []\n",
    "    next_page_token = None\n",
    "    \n",
    "    while True:\n",
    "        try:\n",
    "            response = youtube.search().list(\n",
    "                q=query,\n",
    "                part='snippet',\n",
    "                type='video',\n",
    "                regionCode='BR',\n",
    "                publishedAfter=published_after,\n",
    "                publishedBefore=published_before,\n",
    "                maxResults=50,  # Máximo de resultados por página\n",
    "                pageToken=next_page_token\n",
    "            ).execute()\n",
    "        except Exception as e:\n",
    "            print(f\"Erro ao buscar vídeos: {e}\")\n",
    "            raise\n",
    "        \n",
    "        for item in response.get('items', []):\n",
    "            video_id = item['id']['videoId']\n",
    "            video_url = f\"https://www.youtube.com/watch?v={video_id}\"\n",
    "            \n",
    "            # Obter detalhes adicionais do vídeo\n",
    "            try:\n",
    "                video_response = youtube.videos().list(\n",
    "                    part='snippet,statistics,contentDetails',\n",
    "                    id=video_id\n",
    "                ).execute()\n",
    "                \n",
    "                video_info = video_response['items'][0]\n",
    "                video_data = {\n",
    "                    'video_id': video_id,\n",
    "                    'url': video_url,\n",
    "                    'title': video_info['snippet']['title'],\n",
    "                    'description': video_info['snippet']['description'],\n",
    "                    'channel_title': video_info['snippet']['channelTitle'],\n",
    "                    'published_at': video_info['snippet']['publishedAt'],\n",
    "                    'view_count': video_info['statistics'].get('viewCount', 0),\n",
    "                    'like_count': video_info['statistics'].get('likeCount', 0),\n",
    "                    'dislike_count': video_info['statistics'].get('dislikeCount', 0),\n",
    "                    'comment_count': video_info['statistics'].get('commentCount', 0),\n",
    "                    'tags': video_info['snippet'].get('tags', []),\n",
    "                    'duration': video_info['contentDetails']['duration'],\n",
    "                    'sentiment': None  # Nenhuma informação disponível na API sobre sentimento\n",
    "                }\n",
    "                videos.append(video_data)\n",
    "            except Exception as e:\n",
    "                print(f\"Erro ao obter detalhes do vídeo {video_id}: {e}\")\n",
    "                continue\n",
    "        \n",
    "        next_page_token = response.get('nextPageToken')\n",
    "        \n",
    "        if not next_page_token:\n",
    "            break\n",
    "    \n",
    "    return videos"
   ]
  },
  {
   "cell_type": "code",
   "execution_count": null,
   "metadata": {},
   "outputs": [],
   "source": [
    "# Função para organizar os dados dos vídeos conforme especificado\n",
    "def organize_video_data(videos):\n",
    "    organized_data = []\n",
    "    for video in videos:\n",
    "        # Convertendo o valor numérico de SENTIMENT para a string correspondente\n",
    "        sentiment_mapping = {0: 'NEUTRAL', 1: 'POSITIVE', 2: 'NEGATIVE'}\n",
    "        sentiment = sentiment_mapping.get(video.get('sentiment'), None)\n",
    "        \n",
    "        organized_video = {\n",
    "            'ID': video['video_id'],\n",
    "            'AUTHOR': video['published_at'],\n",
    "            'URL': video['url'],\n",
    "            'DATE': video['published_at'],\n",
    "            'LIKES': video['like_count'],\n",
    "            'SHARES': None,  # Nenhuma informação disponível na API sobre compartilhamentos\n",
    "            'COMMENTS': video['comment_count'],\n",
    "            'CONTENT': video['description'],\n",
    "            'SERVICE': 'Youtube',\n",
    "            'SENTIMENT': sentiment,\n",
    "            'ENGAGEMENT': None  # Nenhuma informação disponível na API sobre engajamento\n",
    "        }\n",
    "        organized_data.append(organized_video)\n",
    "    return organized_data"
   ]
  },
  {
   "cell_type": "code",
   "execution_count": null,
   "metadata": {},
   "outputs": [],
   "source": [
    "# Função para converter o sentimento para número\n",
    "def convert_sentiment(sentiment):\n",
    "    if sentiment == 'NEUTRAL':\n",
    "        return 0\n",
    "    elif sentiment == 'POSITIVE':\n",
    "        return 1\n",
    "    elif sentiment == 'NEGATIVE':\n",
    "        return 2\n",
    "    else:\n",
    "        return None"
   ]
  },
  {
   "cell_type": "code",
   "execution_count": null,
   "metadata": {},
   "outputs": [],
   "source": [
    "# Criar um diretório para os arquivos CSV, se não existir\n",
    "output_directory = 'output_csv'\n",
    "if not os.path.exists(output_directory):\n",
    "    os.makedirs(output_directory)"
   ]
  },
  {
   "cell_type": "code",
   "execution_count": null,
   "metadata": {},
   "outputs": [],
   "source": [
    "# Exemplo de uso\n",
    "api_key = 'AIzaSyB5YpHY8DKSrEHLvflA88XgE0wsi5uF5f0PI_KEY'\n",
    "query = 'Show Madonna Copacapana'\n",
    "published_after = '2024-01-01T00:00:00Z'  # Data de início do intervalo de busca (formato ISO 8601)\n",
    "published_before = '2024-06-13T23:59:59Z'  # Data de término do intervalo de busca (formato ISO 8601)"
   ]
  },
  {
   "cell_type": "code",
   "execution_count": null,
   "metadata": {},
   "outputs": [],
   "source": [
    "# Buscar vídeos\n",
    "videos = search_youtube_videos(api_key, query, published_after, published_before)"
   ]
  },
  {
   "cell_type": "code",
   "execution_count": null,
   "metadata": {},
   "outputs": [],
   "source": [
    "# Organizar os dados\n",
    "organized_videos = organize_video_data(videos)"
   ]
  },
  {
   "cell_type": "code",
   "execution_count": null,
   "metadata": {},
   "outputs": [],
   "source": [
    "# Converter os dados organizados em arquivos CSV individuais\n",
    "for index, video in enumerate(organized_videos):\n",
    "    # Obter os dados do vídeo\n",
    "    video_id = video['ID']\n",
    "    service = video['SERVICE']\n",
    "    date = pd.to_datetime(video['DATE']).strftime('%Y%m%d%H%M')\n",
    "    sentiment = convert_sentiment(video['SENTIMENT'])\n",
    "    index_formatted = str(index).zfill(7)  # Formato do índice: 0000000\n",
    "\n",
    "    # Construir o nome do arquivo\n",
    "    filename = f\"{service}_{date}_{sentiment}_{index_formatted}.csv\"\n",
    "    filepath = os.path.join(output_directory, filename)\n",
    "\n",
    "    # Criar DataFrame com apenas uma linha\n",
    "    df_single_row = pd.DataFrame([video])\n",
    "\n",
    "    # Salvar o DataFrame como arquivo CSV\n",
    "    df_single_row.to_csv(filepath, index=False)"
   ]
  },
  {
   "cell_type": "markdown",
   "metadata": {},
   "source": [
    "# Update de codigo para ajustar entendimento da ultima reunião de 20240613. #"
   ]
  }
 ],
 "metadata": {
  "kernelspec": {
   "display_name": "Python 3",
   "language": "python",
   "name": "python3"
  },
  "language_info": {
   "codemirror_mode": {
    "name": "ipython",
    "version": 3
   },
   "file_extension": ".py",
   "mimetype": "text/x-python",
   "name": "python",
   "nbconvert_exporter": "python",
   "pygments_lexer": "ipython3",
   "version": "3.10.13"
  }
 },
 "nbformat": 4,
 "nbformat_minor": 2
}
